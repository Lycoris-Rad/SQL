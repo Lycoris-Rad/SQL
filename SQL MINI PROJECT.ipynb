{
 "cells": [
  {
   "cell_type": "code",
   "execution_count": 20,
   "id": "be361fe6",
   "metadata": {},
   "outputs": [],
   "source": [
    "#import nessecray libraries\n",
    "import sqlalchemy\n",
    "from sqlalchemy import create_engine\n",
    "import sqlite3\n",
    "from sqlite3 import Error\n",
    "import pandas as pd"
   ]
  },
  {
   "cell_type": "code",
   "execution_count": 21,
   "id": "8ea0aa22",
   "metadata": {},
   "outputs": [
    {
     "name": "stdout",
     "output_type": "stream",
     "text": [
      "2.6.0\n",
      "2. Query all tasks\n",
      "(0, 'Tennis Court 1', 5, 25, 10000, 200)\n",
      "(1, 'Tennis Court 2', 5, 25, 8000, 200)\n",
      "(2, 'Badminton Court', 0, 15.5, 4000, 50)\n",
      "(3, 'Table Tennis', 0, 5, 320, 10)\n",
      "(4, 'Massage Room 1', 9.9, 80, 4000, 3000)\n",
      "(5, 'Massage Room 2', 9.9, 80, 4000, 3000)\n",
      "(6, 'Squash Court', 3.5, 17.5, 5000, 80)\n",
      "(7, 'Snooker Table', 0, 5, 450, 15)\n",
      "(8, 'Pool Table', 0, 5, 400, 15)\n"
     ]
    }
   ],
   "source": [
    "def create_connection(db_file):\n",
    "    \"\"\" create a database connection to the SQLite database\n",
    "        specified by the db_file\n",
    "    :param db_file: database file\n",
    "    :return: Connection object or None\n",
    "    \"\"\"\n",
    "    conn = None\n",
    "    try:\n",
    "        conn = sqlite3.connect(db_file)\n",
    "        print(sqlite3.version)\n",
    "    except Error as e:\n",
    "        print(e)\n",
    " \n",
    "    return conn\n",
    "\n",
    " \n",
    "def select_all_tasks(conn):\n",
    "    \"\"\"\n",
    "    Query all rows in the tasks table\n",
    "    :param conn: the Connection object\n",
    "    :return:\n",
    "    \"\"\"\n",
    "    cur = conn.cursor()\n",
    "    \n",
    "    query1 = \"\"\"\n",
    "        SELECT *\n",
    "        FROM FACILITIES\n",
    "        \"\"\"\n",
    "    cur.execute(query1)\n",
    " \n",
    "    rows = cur.fetchall()\n",
    " \n",
    "    for row in rows:\n",
    "        print(row)\n",
    "\n",
    "\n",
    "def main():\n",
    "    database = \"sqlite_db_pythonsqlite.db\"\n",
    " \n",
    "    # create a database connection\n",
    "    conn = create_connection(database)\n",
    "    with conn: \n",
    "        print(\"2. Query all tasks\")\n",
    "        select_all_tasks(conn)\n",
    " \n",
    "if __name__ == '__main__':\n",
    "    main()"
   ]
  },
  {
   "cell_type": "markdown",
   "id": "ce3b6f30",
   "metadata": {},
   "source": [
    "# Visualizing SQL Data"
   ]
  },
  {
   "cell_type": "markdown",
   "id": "d2e3979b",
   "metadata": {},
   "source": [
    "The data you need is in the \"country_club\" database. This databasecontains 3 tables:(\n",
    "    i) the \"Bookings\" table,\n",
    "    ii) the \"Facilities\" table, and\n",
    "    iii) the \"Members\" table.)"
   ]
  },
  {
   "cell_type": "markdown",
   "id": "42b97d5f",
   "metadata": {},
   "source": [
    "#Query database BOOKINGS (ATTEMPT 1 **functional but long and has no indexing)\n",
    "\n",
    "\n",
    "#def main():\n",
    "    #database = \"sqlite_db_pythonsqlite.db\"\n",
    "\n",
    "    #conn = create_connection(database)\n",
    "    #with conn: \n",
    "        #rs=conn.execute(\"SELECt* FROM BOOKINGS\")\n",
    "        #print(rs)\n",
    "        #select_all_tasks(conn)\n",
    "    #df=pd.DataFrame(rs.fetchall())\n",
    "    \n",
    "    #return (df)\n",
    "\n"
   ]
  },
  {
   "cell_type": "markdown",
   "id": "7c8f1e3a",
   "metadata": {},
   "source": [
    "#main()"
   ]
  },
  {
   "cell_type": "code",
   "execution_count": 45,
   "id": "163e3bf4",
   "metadata": {},
   "outputs": [
    {
     "name": "stdout",
     "output_type": "stream",
     "text": [
      "                            name\n",
      "0                       Bookings\n",
      "1    sqlite_autoindex_Bookings_1\n",
      "2                     Facilities\n",
      "3  sqlite_autoindex_Facilities_1\n",
      "4                        Members\n",
      "5     sqlite_autoindex_Members_1\n"
     ]
    }
   ],
   "source": [
    "sql_query0 = \"SELECT name FROM sqlite_master;\"\n",
    "\n",
    "df0 = pd.read_sql_query(sql_query0, connection)\n",
    "print(df0)"
   ]
  },
  {
   "cell_type": "code",
   "execution_count": 22,
   "id": "c980fb89",
   "metadata": {},
   "outputs": [],
   "source": [
    "#Query database BOOKINGS ATTEMPT 2\n",
    "#step 1: connection \n",
    "database = \"sqlite_db_pythonsqlite.db\"\n",
    "connection = sqlite3.connect(database)\n",
    "\n",
    "# Step 2: Define the SQL query\n",
    "sql_query = \"SELECT * FROM bookings;\"\n",
    "\n",
    "# Step 3: Read data into a DataFrame and set a column as the index\n",
    "df_bk = pd.read_sql_query(sql_query, connection)\n"
   ]
  },
  {
   "cell_type": "code",
   "execution_count": 23,
   "id": "e5e781ad",
   "metadata": {},
   "outputs": [
    {
     "name": "stdout",
     "output_type": "stream",
     "text": [
      "      bookid  facid  memid            starttime  slots\n",
      "0          0      3      1  2012-07-03 11:00:00      2\n",
      "1          1      4      1  2012-07-03 08:00:00      2\n",
      "2          2      6      0  2012-07-03 18:00:00      2\n",
      "3          3      7      1  2012-07-03 19:00:00      2\n",
      "4          4      8      1  2012-07-03 10:00:00      1\n",
      "...      ...    ...    ...                  ...    ...\n",
      "4038    4038      8     29  2012-09-30 16:30:00      2\n",
      "4039    4039      8     29  2012-09-30 18:00:00      1\n",
      "4040    4040      8     21  2012-09-30 18:30:00      1\n",
      "4041    4041      8     16  2012-09-30 19:00:00      1\n",
      "4042    4042      8     29  2012-09-30 19:30:00      1\n",
      "\n",
      "[4043 rows x 5 columns]\n"
     ]
    }
   ],
   "source": [
    "print(df_bk)"
   ]
  },
  {
   "cell_type": "code",
   "execution_count": 24,
   "id": "7c530317",
   "metadata": {},
   "outputs": [],
   "source": [
    "#Query database FACILITIES\n",
    "#step 1: connection \n",
    "database = \"sqlite_db_pythonsqlite.db\"\n",
    "connection = sqlite3.connect(database)\n",
    "\n",
    "# Step 2: Define the SQL query\n",
    "sql_query = \"SELECT * FROM FACILITIES;\"\n",
    "\n",
    "# Step 3: Read data into a DataFrame and set a column as the index\n",
    "df_fac = pd.read_sql_query(sql_query, connection)\n"
   ]
  },
  {
   "cell_type": "code",
   "execution_count": 25,
   "id": "f6e90659",
   "metadata": {},
   "outputs": [
    {
     "name": "stdout",
     "output_type": "stream",
     "text": [
      "   facid             name  membercost  guestcost  initialoutlay  \\\n",
      "0      0   Tennis Court 1         5.0       25.0          10000   \n",
      "1      1   Tennis Court 2         5.0       25.0           8000   \n",
      "2      2  Badminton Court         0.0       15.5           4000   \n",
      "3      3     Table Tennis         0.0        5.0            320   \n",
      "4      4   Massage Room 1         9.9       80.0           4000   \n",
      "5      5   Massage Room 2         9.9       80.0           4000   \n",
      "6      6     Squash Court         3.5       17.5           5000   \n",
      "7      7    Snooker Table         0.0        5.0            450   \n",
      "8      8       Pool Table         0.0        5.0            400   \n",
      "\n",
      "   monthlymaintenance  \n",
      "0                 200  \n",
      "1                 200  \n",
      "2                  50  \n",
      "3                  10  \n",
      "4                3000  \n",
      "5                3000  \n",
      "6                  80  \n",
      "7                  15  \n",
      "8                  15  \n"
     ]
    },
    {
     "data": {
      "text/plain": [
       "(9, 6)"
      ]
     },
     "execution_count": 25,
     "metadata": {},
     "output_type": "execute_result"
    }
   ],
   "source": [
    "print (df_fac)\n",
    "df_fac.shape"
   ]
  },
  {
   "cell_type": "code",
   "execution_count": 26,
   "id": "a97d8e6b",
   "metadata": {},
   "outputs": [],
   "source": [
    "#Query database Members\n",
    "#step 1: connection \n",
    "database = \"sqlite_db_pythonsqlite.db\"\n",
    "connection = sqlite3.connect(database)\n",
    "\n",
    "# Step 2: Define the SQL query\n",
    "sql_query = \"SELECT * FROM Members;\"\n",
    "\n",
    "# Step 3: Read data into a DataFrame and set a column as the index\n",
    "df_mem = pd.read_sql_query(sql_query, connection)"
   ]
  },
  {
   "cell_type": "code",
   "execution_count": 27,
   "id": "7ac48de5",
   "metadata": {},
   "outputs": [
    {
     "name": "stdout",
     "output_type": "stream",
     "text": [
      "    memid            surname  firstname  \\\n",
      "0       0              GUEST      GUEST   \n",
      "1       1              Smith     Darren   \n",
      "2       2              Smith      Tracy   \n",
      "3       3             Rownam        Tim   \n",
      "4       4           Joplette     Janice   \n",
      "5       5            Butters     Gerald   \n",
      "6       6              Tracy     Burton   \n",
      "7       7               Dare      Nancy   \n",
      "8       8             Boothe        Tim   \n",
      "9       9           Stibbons     Ponder   \n",
      "10     10               Owen    Charles   \n",
      "11     11              Jones      David   \n",
      "12     12              Baker       Anne   \n",
      "13     13            Farrell     Jemima   \n",
      "14     14              Smith       Jack   \n",
      "15     15              Bader   Florence   \n",
      "16     16              Baker    Timothy   \n",
      "17     17             Pinker      David   \n",
      "18     20            Genting    Matthew   \n",
      "19     21          Mackenzie       Anna   \n",
      "20     22             Coplin       Joan   \n",
      "21     24             Sarwin  Ramnaresh   \n",
      "22     26              Jones    Douglas   \n",
      "23     27             Rumney  Henrietta   \n",
      "24     28            Farrell      David   \n",
      "25     29  Worthington-Smyth      Henry   \n",
      "26     30            Purview  Millicent   \n",
      "27     33         Tupperware   Hyacinth   \n",
      "28     35               Hunt       John   \n",
      "29     36            Crumpet      Erica   \n",
      "30     37              Smith     Darren   \n",
      "\n",
      "                                    address  zipcode       telephone  \\\n",
      "0                                     GUEST        0  (000) 000-0000   \n",
      "1                8 Bloomsbury Close, Boston     4321    555-555-5555   \n",
      "2              8 Bloomsbury Close, New York     4321    555-555-5555   \n",
      "3                    23 Highway Way, Boston    23423  (844) 693-0723   \n",
      "4                20 Crossing Road, New York      234  (833) 942-4710   \n",
      "5            1065 Huntingdon Avenue, Boston    56754  (844) 078-4130   \n",
      "6                   3 Tunisia Drive, Boston    45678  (822) 354-9973   \n",
      "7               6 Hunting Lodge Way, Boston    10383  (833) 776-4001   \n",
      "8        3 Bloomsbury Close, Reading, 00234      234  (811) 433-2547   \n",
      "9                 5 Dragons Way, Winchester    87630  (833) 160-3900   \n",
      "10     52 Cheshire Grove, Winchester, 28563    28563  (855) 542-5251   \n",
      "11                 976 Gnats Close, Reading    33862  (844) 536-8036   \n",
      "12                55 Powdery Street, Boston    80743    844-076-5141   \n",
      "13          103 Firth Avenue, North Reading    57392  (855) 016-0163   \n",
      "14               252 Binkington Way, Boston    69302  (822) 163-3254   \n",
      "15               264 Ursula Drive, Westford    84923  (833) 499-3527   \n",
      "16                329 James Street, Reading    58393    833-941-0824   \n",
      "17                   5 Impreza Road, Boston    65332    811 409-6734   \n",
      "18    4 Nunnington Place, Wingfield, Boston    52365  (811) 972-1377   \n",
      "19              64 Perkington Lane, Reading    64577  (822) 661-2898   \n",
      "20      85 Bard Street, Bloomington, Boston    43533  (822) 499-2232   \n",
      "21               12 Bullington Lane, Boston    65464  (822) 413-1470   \n",
      "22                 976 Gnats Close, Reading    11986    844 536-8036   \n",
      "23               3 Burkington Plaza, Boston    78533  (822) 989-8876   \n",
      "24          437 Granite Farm Road, Westford    43532  (855) 755-9876   \n",
      "25              55 Jagbi Way, North Reading    97676  (855) 894-3758   \n",
      "26   641 Drudgery Close, Burnington, Boston    34232  (855) 941-9786   \n",
      "27  33 Cheerful Plaza, Drake Road, Westford    68666  (822) 665-5327   \n",
      "28                5 Bullington Lane, Boston    54333  (899) 720-6978   \n",
      "29              Crimson Road, North Reading    75655  (811) 732-4816   \n",
      "30           3 Funktown, Denzington, Boston    66796  (822) 577-3541   \n",
      "\n",
      "   recommendedby             joindate  \n",
      "0                 2012-07-01 00:00:00  \n",
      "1                 2012-07-02 12:02:05  \n",
      "2                 2012-07-02 12:08:23  \n",
      "3                 2012-07-03 09:32:15  \n",
      "4              1  2012-07-03 10:25:05  \n",
      "5              1  2012-07-09 10:44:09  \n",
      "6                 2012-07-15 08:52:55  \n",
      "7              4  2012-07-25 08:59:12  \n",
      "8              3  2012-07-25 16:02:35  \n",
      "9              6  2012-07-25 17:09:05  \n",
      "10             1  2012-08-03 19:42:37  \n",
      "11             4  2012-08-06 16:32:55  \n",
      "12             9  2012-08-10 14:23:22  \n",
      "13                2012-08-10 14:28:01  \n",
      "14             1  2012-08-10 16:22:05  \n",
      "15             9  2012-08-10 17:52:03  \n",
      "16            13  2012-08-15 10:34:25  \n",
      "17            13  2012-08-16 11:32:47  \n",
      "18             5  2012-08-19 14:55:55  \n",
      "19             1  2012-08-26 09:32:05  \n",
      "20            16  2012-08-29 08:32:41  \n",
      "21            15  2012-09-01 08:44:42  \n",
      "22            11  2012-09-02 18:43:05  \n",
      "23            20  2012-09-05 08:42:35  \n",
      "24                2012-09-15 08:22:05  \n",
      "25             2  2012-09-17 12:27:15  \n",
      "26             2  2012-09-18 19:04:01  \n",
      "27                2012-09-18 19:32:05  \n",
      "28            30  2012-09-19 11:32:45  \n",
      "29             2  2012-09-22 08:36:38  \n",
      "30                2012-09-26 18:08:45  \n"
     ]
    }
   ],
   "source": [
    "print (df_mem)"
   ]
  },
  {
   "cell_type": "code",
   "execution_count": 28,
   "id": "d4e85c3a",
   "metadata": {},
   "outputs": [],
   "source": [
    "import sqlite3\n",
    "import pandas as pd\n"
   ]
  },
  {
   "cell_type": "markdown",
   "id": "6ccdabbb",
   "metadata": {},
   "source": [
    "# QUESTIONS"
   ]
  },
  {
   "cell_type": "code",
   "execution_count": 29,
   "id": "4cd51ffa",
   "metadata": {},
   "outputs": [
    {
     "name": "stdout",
     "output_type": "stream",
     "text": [
      "              name\n",
      "0   Tennis Court 1\n",
      "1   Tennis Court 2\n",
      "2  Badminton Court\n",
      "3     Table Tennis\n",
      "4   Massage Room 1\n",
      "5   Massage Room 2\n",
      "6     Squash Court\n",
      "7    Snooker Table\n",
      "8       Pool Table\n"
     ]
    }
   ],
   "source": [
    "#Q1: Some of the facilities charge a fee to members, but some do not.\n",
    "#Write a SQL query to produce a list of the names of the facilities that do.\n",
    "\n",
    "sql_query1= \"SELECT name FROM FACILITIES WHERE guestcost >0; \"\n",
    "df1= pd.read_sql_query(sql_query1, connection)\n",
    "print (df1)\n"
   ]
  },
  {
   "cell_type": "code",
   "execution_count": 30,
   "id": "f0e6c96f",
   "metadata": {},
   "outputs": [
    {
     "name": "stdout",
     "output_type": "stream",
     "text": [
      "   COUNT(name)\n",
      "0            0\n"
     ]
    }
   ],
   "source": [
    "#Q2: How many facilities do not charge a fee to members? */\n",
    "\n",
    "sql_query2= \"SELECT COUNT(name) FROM FACILITIES WHERE guestcost <=0; \"\n",
    "df2= pd.read_sql_query(sql_query2, connection)\n",
    "print (df2)\n"
   ]
  },
  {
   "cell_type": "code",
   "execution_count": 31,
   "id": "06b250f9",
   "metadata": {},
   "outputs": [
    {
     "name": "stdout",
     "output_type": "stream",
     "text": [
      "   facid             name  membercost  monthlymaintenance\n",
      "0      0   Tennis Court 1         5.0                 200\n",
      "1      1   Tennis Court 2         5.0                 200\n",
      "2      2  Badminton Court         0.0                  50\n",
      "3      3     Table Tennis         0.0                  10\n",
      "4      4   Massage Room 1         9.9                3000\n",
      "5      5   Massage Room 2         9.9                3000\n",
      "6      6     Squash Court         3.5                  80\n",
      "7      7    Snooker Table         0.0                  15\n",
      "8      8       Pool Table         0.0                  15\n"
     ]
    }
   ],
   "source": [
    "# Q3: Write an SQL query to show a list of facilities that charge a fee to members, where the fee is less than 20% of the\n",
    "#facility's monthly maintenance cost. Return the facid, facility name, member cost, and monthly maintenance of the facilities \n",
    "#in question. \n",
    "\n",
    "\n",
    "sql_query3= \"SELECT facid, name,membercost,monthlymaintenance FROM FACILITIES WHERE membercost <0.20*monthlymaintenance ; \"\n",
    "df3= pd.read_sql_query(sql_query3, connection)\n",
    "print (df3)\n",
    "\n"
   ]
  },
  {
   "cell_type": "code",
   "execution_count": 32,
   "id": "690b2d50",
   "metadata": {},
   "outputs": [
    {
     "name": "stdout",
     "output_type": "stream",
     "text": [
      "   facid            name  membercost  guestcost  initialoutlay  \\\n",
      "0      1  Tennis Court 2         5.0         25           8000   \n",
      "1      5  Massage Room 2         9.9         80           4000   \n",
      "\n",
      "   monthlymaintenance  \n",
      "0                 200  \n",
      "1                3000  \n"
     ]
    }
   ],
   "source": [
    "#Q4: Write an SQL query to retrieve the details of facilities with ID 1 and 5.\n",
    "#Try writing the query without using the OR operator.\n",
    "\n",
    "sql_query4= \"SELECT * FROM FACILITIES WHERE facid in (1,5) ; \"\n",
    "df4= pd.read_sql_query(sql_query4, connection)\n",
    "print (df4)\n",
    "\n",
    "\n"
   ]
  },
  {
   "cell_type": "code",
   "execution_count": 33,
   "id": "51db2d56",
   "metadata": {},
   "outputs": [
    {
     "name": "stdout",
     "output_type": "stream",
     "text": [
      "              name  monthlymaintenance affordability\n",
      "0   Tennis Court 1                 200     expensive\n",
      "1   Tennis Court 2                 200     expensive\n",
      "2  Badminton Court                  50         cheap\n",
      "3     Table Tennis                  10         cheap\n",
      "4   Massage Room 1                3000     expensive\n",
      "5   Massage Room 2                3000     expensive\n",
      "6     Squash Court                  80         cheap\n",
      "7    Snooker Table                  15         cheap\n",
      "8       Pool Table                  15         cheap\n"
     ]
    }
   ],
   "source": [
    "# Q5: Produce a list of facilities, with each labelled as\n",
    "#'cheap' or 'expensive', depending on if their monthly maintenance cost is\n",
    "#more than $100. Return the name and monthly maintenance of the facilitiesin question. \n",
    "\n",
    "sql_query5= '''\n",
    "SELECT name, monthlymaintenance,\n",
    "CASE WHEN monthlymaintenance <=100\n",
    "THEN 'cheap'\n",
    "ELSE 'expensive'\n",
    "END AS affordability\n",
    "FROM `Facilities`;\n",
    "'''\n",
    "\n",
    "\n",
    "df5= pd.read_sql_query(sql_query5, connection)\n",
    "print (df5)"
   ]
  },
  {
   "cell_type": "code",
   "execution_count": 34,
   "id": "6e8ac08c",
   "metadata": {},
   "outputs": [
    {
     "name": "stdout",
     "output_type": "stream",
     "text": [
      "  surname firstname\n",
      "0   Smith    Darren\n"
     ]
    }
   ],
   "source": [
    "#Q6: You'd like to get the first and last name of the last member(s) who signed up. \n",
    "#Try not to use the LIMIT clause for your solution. \n",
    "\n",
    "sql_query6 ='''\n",
    "SELECT surname, firstname \n",
    "FROM 'Members'\n",
    "WHERE joindate =(\n",
    "SELECT MAX(joindate)\n",
    "FROM 'Members') \n",
    "'''\n",
    "df6= pd.read_sql_query (sql_query6, connection)\n",
    "print(df6)"
   ]
  },
  {
   "cell_type": "code",
   "execution_count": 35,
   "id": "9e905228",
   "metadata": {},
   "outputs": [
    {
     "name": "stdout",
     "output_type": "stream",
     "text": [
      "            full_name   facility_name\n",
      "0          Anne Baker  Tennis Court 1\n",
      "1          Anne Baker  Tennis Court 2\n",
      "2        Burton Tracy  Tennis Court 2\n",
      "3        Burton Tracy  Tennis Court 1\n",
      "4        Charles Owen  Tennis Court 1\n",
      "5        Charles Owen  Tennis Court 2\n",
      "6        Darren Smith  Tennis Court 2\n",
      "7       David Farrell  Tennis Court 1\n",
      "8       David Farrell  Tennis Court 2\n",
      "9         David Jones  Tennis Court 2\n",
      "10        David Jones  Tennis Court 1\n",
      "11       David Pinker  Tennis Court 1\n",
      "12      Douglas Jones  Tennis Court 1\n",
      "13      Erica Crumpet  Tennis Court 1\n",
      "14     Florence Bader  Tennis Court 2\n",
      "15     Florence Bader  Tennis Court 1\n",
      "16        GUEST GUEST  Tennis Court 2\n",
      "17        GUEST GUEST  Tennis Court 1\n",
      "18     Gerald Butters  Tennis Court 1\n",
      "19     Gerald Butters  Tennis Court 2\n",
      "20   Henrietta Rumney  Tennis Court 2\n",
      "21         Jack Smith  Tennis Court 1\n",
      "22         Jack Smith  Tennis Court 2\n",
      "23    Janice Joplette  Tennis Court 1\n",
      "24    Janice Joplette  Tennis Court 2\n",
      "25     Jemima Farrell  Tennis Court 2\n",
      "26     Jemima Farrell  Tennis Court 1\n",
      "27        Joan Coplin  Tennis Court 1\n",
      "28          John Hunt  Tennis Court 1\n",
      "29          John Hunt  Tennis Court 2\n",
      "30    Matthew Genting  Tennis Court 1\n",
      "31  Millicent Purview  Tennis Court 2\n",
      "32         Nancy Dare  Tennis Court 2\n",
      "33         Nancy Dare  Tennis Court 1\n",
      "34    Ponder Stibbons  Tennis Court 2\n",
      "35    Ponder Stibbons  Tennis Court 1\n",
      "36   Ramnaresh Sarwin  Tennis Court 2\n",
      "37   Ramnaresh Sarwin  Tennis Court 1\n",
      "38         Tim Boothe  Tennis Court 2\n",
      "39         Tim Boothe  Tennis Court 1\n",
      "40         Tim Rownam  Tennis Court 2\n",
      "41         Tim Rownam  Tennis Court 1\n",
      "42      Timothy Baker  Tennis Court 2\n",
      "43      Timothy Baker  Tennis Court 1\n",
      "44        Tracy Smith  Tennis Court 1\n",
      "45        Tracy Smith  Tennis Court 2\n"
     ]
    }
   ],
   "source": [
    "#Q7: Produce a list of all members who have used a tennis court.Include in your output the name of the court, \n",
    "#and the name of the member formatted as a single column. Ensure no duplicate data, and order by the member name.\n",
    "\n",
    "\n",
    "sql_query7 ='''\n",
    "SELECT DISTINCT m.firstname ||\" \"|| m.surname AS full_name, f.name AS facility_name\n",
    "FROM 'bookings' AS b    \n",
    "LEFT JOIN `Facilities` AS f ON b.facid = f.facid\n",
    "LEFT JOIN `Members` AS m ON b.memid = m.memid\n",
    "WHERE f.name LIKE 'Tennis%'\n",
    "ORDER BY  full_name\n",
    "'''\n",
    "df7= pd.read_sql_query(sql_query7, connection)\n",
    "print (df7)\n"
   ]
  },
  {
   "cell_type": "code",
   "execution_count": 36,
   "id": "76737ea1",
   "metadata": {},
   "outputs": [
    {
     "name": "stdout",
     "output_type": "stream",
     "text": [
      "        full_name   facility_name   cost\n",
      "0     GUEST GUEST  Massage Room 2  320.0\n",
      "1     GUEST GUEST  Massage Room 1  160.0\n",
      "2     GUEST GUEST  Tennis Court 2  150.0\n",
      "3     GUEST GUEST  Tennis Court 1   75.0\n",
      "4     GUEST GUEST  Tennis Court 2   75.0\n",
      "5     GUEST GUEST    Squash Court   70.0\n",
      "6  Jemima Farrell  Massage Room 1   39.6\n",
      "7     GUEST GUEST    Squash Court   35.0\n"
     ]
    }
   ],
   "source": [
    "#Q8: Produce a list of bookings on the day of 2012-09-14 which will cost the member (or guest) more than $30.\n",
    "#Remember that guests have different costs to members (the listed costs are per half-hour 'slot'), and the\n",
    "#guest user's ID is always 0. Include in your output the name of the facility, the name of the member formatted\n",
    "#as a single column, and the cost.Order by descending cost, and do not use any subqueries.\n",
    "\n",
    "sql_query8 = '''\n",
    "SELECT DISTINCT m.firstname ||\" \"|| m.surname AS full_name, f.name AS facility_name,\n",
    "CASE WHEN b.memid =0\n",
    "THEN f.guestcost * b.slots\n",
    "ELSE f.membercost * b.slots\n",
    "END AS cost\n",
    "\n",
    "FROM `Bookings` AS b\n",
    "LEFT JOIN `Facilities` AS f ON b.facid = f.facid\n",
    "LEFT JOIN `Members` AS m ON b.memid = m.memid\n",
    "WHERE b.starttime LIKE '2012-09-14%'\n",
    "AND 30 <\n",
    "CASE WHEN b.memid =0\n",
    "THEN f.guestcost * b.slots\n",
    "ELSE f.membercost * b.slots\n",
    "END\n",
    "ORDER BY cost DESC\n",
    "'''\n",
    "df8= pd.read_sql_query(sql_query8, connection)\n",
    "print (df8)\n",
    "\n",
    "\n",
    "\n"
   ]
  },
  {
   "cell_type": "code",
   "execution_count": 37,
   "id": "c88ff1aa",
   "metadata": {},
   "outputs": [
    {
     "name": "stdout",
     "output_type": "stream",
     "text": [
      "        full_name   facility_name   cost\n",
      "0     GUEST GUEST  Massage Room 2  320.0\n",
      "1     GUEST GUEST  Massage Room 1  160.0\n",
      "2     GUEST GUEST  Tennis Court 2  150.0\n",
      "3     GUEST GUEST  Tennis Court 1   75.0\n",
      "4     GUEST GUEST  Tennis Court 2   75.0\n",
      "5     GUEST GUEST    Squash Court   70.0\n",
      "6  Jemima Farrell  Massage Room 1   39.6\n",
      "7     GUEST GUEST    Squash Court   35.0\n"
     ]
    }
   ],
   "source": [
    "# Q9: This time, produce the same result as in Q8, but using a subquery. \n",
    "\n",
    "sql_query9 = '''\n",
    "SELECT DISTINCT m.firstname ||\" \"|| m.surname AS full_name, f.name AS facility_name,\n",
    "CASE WHEN b.memid =0\n",
    "THEN f.guestcost * b.slots\n",
    "ELSE f.membercost * b.slots\n",
    "END AS cost\n",
    "\n",
    "FROM `Bookings` AS b\n",
    "LEFT JOIN `Facilities` AS f ON b.facid = f.facid\n",
    "LEFT JOIN `Members` AS m ON b.memid = m.memid\n",
    "WHERE b.starttime LIKE '2012-09-14%' AND b.bookid\n",
    "\n",
    "IN (SELECT b.bookid\n",
    "FROM `Bookings` AS b\n",
    "LEFT JOIN `Facilities` AS f ON b.facid = f.facid\n",
    "WHERE (b.memid =0 AND f.guestcost * b.slots >30) OR (b.memid >0 AND f.membercost * b.slots >30))\n",
    "\n",
    "ORDER BY cost DESC\n",
    "'''\n",
    "df9= pd.read_sql_query(sql_query8, connection)\n",
    "print (df9)\n"
   ]
  },
  {
   "cell_type": "markdown",
   "id": "33bb26e3",
   "metadata": {},
   "source": [
    "PART 2: SQLite\n",
    "We now want you to jump over to a local instance of the database on your machine. \n",
    "\n",
    "Copy and paste the LocalSQLConnection.py script into an empty Jupyter notebook, and run it. \n",
    "\n",
    "Make sure that the SQLFiles folder containing thes files is in your working directory, and\n",
    "that you haven't changed the name of the .db file from 'sqlite\\db\\pythonsqlite'.\n",
    "\n",
    "You should see the output from the initial query 'SELECT * FROM FACILITIES'.\n",
    "\n",
    "Complete the remaining tasks in the Jupyter interface. If you struggle, feel free to go back\n",
    "to the PHPMyAdmin interface as and when you need to. \n",
    "\n",
    "You'll need to paste your query into value of the 'query1' variable and run the code block again to get an output.\n",
    " \n"
   ]
  },
  {
   "cell_type": "code",
   "execution_count": 47,
   "id": "4a1fe577",
   "metadata": {},
   "outputs": [
    {
     "ename": "SyntaxError",
     "evalue": "invalid syntax (2981203842.py, line 1)",
     "output_type": "error",
     "traceback": [
      "\u001b[1;36m  File \u001b[1;32m\"C:\\Users\\mmeza\\AppData\\Local\\Temp\\ipykernel_13536\\2981203842.py\"\u001b[1;36m, line \u001b[1;32m1\u001b[0m\n\u001b[1;33m    QUESTIONS:\u001b[0m\n\u001b[1;37m              ^\u001b[0m\n\u001b[1;31mSyntaxError\u001b[0m\u001b[1;31m:\u001b[0m invalid syntax\n"
     ]
    }
   ],
   "source": [
    "#QUESTIONS:\n",
    "# Q10: Produce a list of facilities with a total revenue less than 1000. The output of facility name and total revenue, \n",
    "#sorted by revenue. Rememberthat there's a different cost for guests and members!\n",
    "\n",
    "sql_query11='''\n",
    "SELECT sub.name, SUM(sub.revenue) AS revenue\n",
    "FROM (\n",
    "    SELECT b.facid, b.memid, f.name, f.guestcost, f.membercost, COUNT(b.facid) AS facid_count,\n",
    "    CASE\n",
    "        WHEN b.memid = 0 THEN COUNT(b.facid) * f.guestcost\n",
    "        ELSE COUNT(b.facid) * f.membercost\n",
    "    END AS 'revenue'\n",
    "    \n",
    "    FROM Bookings AS b\n",
    "    LEFT JOIN Facilities AS f ON b.facid = f.facid\n",
    "    GROUP BY b.facid, b.memid\n",
    ") AS sub\n",
    "\n",
    "\n",
    "GROUP BY sub.facid\n",
    "HAVING revenue <= 1000;\n",
    "\n",
    "'''\n",
    "df10= pd.read_sql_query(sql_query10, connection)\n",
    "print(df10)\n",
    "\n"
   ]
  },
  {
   "cell_type": "code",
   "execution_count": 39,
   "id": "b8faac92",
   "metadata": {},
   "outputs": [
    {
     "name": "stdout",
     "output_type": "stream",
     "text": [
      "              surname  firstname recomender_id recomender_surname  \\\n",
      "0               GUEST      GUEST                             None   \n",
      "1               Smith     Darren                             None   \n",
      "2               Smith      Tracy                             None   \n",
      "3              Rownam        Tim                             None   \n",
      "4               Tracy     Burton                             None   \n",
      "5             Farrell     Jemima                             None   \n",
      "6             Farrell      David                             None   \n",
      "7          Tupperware   Hyacinth                             None   \n",
      "8               Smith     Darren                             None   \n",
      "9              Sarwin  Ramnaresh            15              Bader   \n",
      "10             Coplin       Joan            16              Baker   \n",
      "11            Genting    Matthew             5            Butters   \n",
      "12              Baker    Timothy            13            Farrell   \n",
      "13             Pinker      David            13            Farrell   \n",
      "14             Rumney  Henrietta            20            Genting   \n",
      "15              Jones    Douglas            11              Jones   \n",
      "16               Dare      Nancy             4           Joplette   \n",
      "17              Jones      David             4           Joplette   \n",
      "18               Hunt       John            30            Purview   \n",
      "19             Boothe        Tim             3             Rownam   \n",
      "20           Joplette     Janice             1              Smith   \n",
      "21            Butters     Gerald             1              Smith   \n",
      "22               Owen    Charles             1              Smith   \n",
      "23              Smith       Jack             1              Smith   \n",
      "24          Mackenzie       Anna             1              Smith   \n",
      "25  Worthington-Smyth      Henry             2              Smith   \n",
      "26            Purview  Millicent             2              Smith   \n",
      "27            Crumpet      Erica             2              Smith   \n",
      "28              Baker       Anne             9           Stibbons   \n",
      "29              Bader   Florence             9           Stibbons   \n",
      "30           Stibbons     Ponder             6              Tracy   \n",
      "\n",
      "   recomender_firstname  \n",
      "0                  None  \n",
      "1                  None  \n",
      "2                  None  \n",
      "3                  None  \n",
      "4                  None  \n",
      "5                  None  \n",
      "6                  None  \n",
      "7                  None  \n",
      "8                  None  \n",
      "9              Florence  \n",
      "10              Timothy  \n",
      "11               Gerald  \n",
      "12               Jemima  \n",
      "13               Jemima  \n",
      "14              Matthew  \n",
      "15                David  \n",
      "16               Janice  \n",
      "17               Janice  \n",
      "18            Millicent  \n",
      "19                  Tim  \n",
      "20               Darren  \n",
      "21               Darren  \n",
      "22               Darren  \n",
      "23               Darren  \n",
      "24               Darren  \n",
      "25                Tracy  \n",
      "26                Tracy  \n",
      "27                Tracy  \n",
      "28               Ponder  \n",
      "29               Ponder  \n",
      "30               Burton  \n"
     ]
    }
   ],
   "source": [
    "#Q11: Produce a report of members and who recommended them in alphabetic surname,firstname order\n",
    "\n",
    "sql_query11='''\n",
    "SELECT m.surname, m.firstname, m.recommendedby AS recomender_id, r.surname AS recomender_surname, r.firstname AS recomender_firstname\n",
    "FROM Members AS m\n",
    "LEFT JOIN Members AS r ON m.recommendedby = r.memid\n",
    "WHERE m.recommendedby != 0\n",
    "ORDER BY r.surname, r.firstname;\n",
    "'''\n",
    "df11 = pd.read_sql_query(sql_query11,connection)\n",
    "print(df11)\n",
    "\n"
   ]
  },
  {
   "cell_type": "code",
   "execution_count": 40,
   "id": "d40dc3a1",
   "metadata": {},
   "outputs": [
    {
     "name": "stdout",
     "output_type": "stream",
     "text": [
      "                    full_name   facility_name\n",
      "0                Darren Smith    Table Tennis\n",
      "1                Darren Smith  Massage Room 1\n",
      "2                Darren Smith   Snooker Table\n",
      "3                Darren Smith      Pool Table\n",
      "4                Darren Smith      Pool Table\n",
      "...                       ...             ...\n",
      "3155  Henry Worthington-Smyth      Pool Table\n",
      "3156  Henry Worthington-Smyth      Pool Table\n",
      "3157           Anna Mackenzie      Pool Table\n",
      "3158            Timothy Baker      Pool Table\n",
      "3159  Henry Worthington-Smyth      Pool Table\n",
      "\n",
      "[3160 rows x 2 columns]\n"
     ]
    }
   ],
   "source": [
    "#Q12: Find the facilities with their usage by member, but not guests\n",
    "sql_query12 = '''\n",
    "SELECT m.firstname || \" \" || m.surname AS full_name,\n",
    "       f.name AS facility_name\n",
    "FROM `Bookings` AS b\n",
    "JOIN `Facilities` AS f ON b.facid = f.facid\n",
    "JOIN `Members` AS m ON b.memid = m.memid\n",
    "WHERE b.memid <> 0;\n",
    "\n",
    "'''\n",
    "df12= pd.read_sql_query(sql_query12, connection)\n",
    "print (df12)"
   ]
  },
  {
   "cell_type": "code",
   "execution_count": 41,
   "id": "00f897a8",
   "metadata": {},
   "outputs": [
    {
     "name": "stdout",
     "output_type": "stream",
     "text": [
      "                    full_name   facility_name usage\n",
      "0                Darren Smith    Table Tennis    07\n",
      "1                Darren Smith  Massage Room 1    07\n",
      "2                Darren Smith   Snooker Table    07\n",
      "3                Darren Smith      Pool Table    07\n",
      "4                Darren Smith      Pool Table    07\n",
      "...                       ...             ...   ...\n",
      "3155  Henry Worthington-Smyth      Pool Table    09\n",
      "3156  Henry Worthington-Smyth      Pool Table    09\n",
      "3157           Anna Mackenzie      Pool Table    09\n",
      "3158            Timothy Baker      Pool Table    09\n",
      "3159  Henry Worthington-Smyth      Pool Table    09\n",
      "\n",
      "[3160 rows x 3 columns]\n"
     ]
    }
   ],
   "source": [
    "#Q13: Find the facilities usage by month, but not guests\n",
    "\n",
    "sql_query13 = '''\n",
    "SELECT m.firstname || \" \" || m.surname AS full_name,\n",
    "       f.name AS facility_name,\n",
    "       strftime('%m', b.starttime) AS usage\n",
    "FROM `Bookings` AS b \n",
    "JOIN `Facilities` AS f ON b.facid = f.facid\n",
    "JOIN `Members` AS m ON b.memid = m.memid\n",
    "WHERE b.memid <> 0;\n",
    "\n",
    "\n",
    "'''\n",
    "df13= pd.read_sql_query(sql_query13, connection)\n",
    "print (df13)"
   ]
  },
  {
   "cell_type": "code",
   "execution_count": null,
   "id": "7c187ccb",
   "metadata": {},
   "outputs": [],
   "source": []
  },
  {
   "cell_type": "code",
   "execution_count": null,
   "id": "445255b2",
   "metadata": {},
   "outputs": [],
   "source": []
  },
  {
   "cell_type": "code",
   "execution_count": null,
   "id": "7bf042b2",
   "metadata": {},
   "outputs": [],
   "source": []
  }
 ],
 "metadata": {
  "kernelspec": {
   "display_name": "Python 3 (ipykernel)",
   "language": "python",
   "name": "python3"
  },
  "language_info": {
   "codemirror_mode": {
    "name": "ipython",
    "version": 3
   },
   "file_extension": ".py",
   "mimetype": "text/x-python",
   "name": "python",
   "nbconvert_exporter": "python",
   "pygments_lexer": "ipython3",
   "version": "3.9.13"
  }
 },
 "nbformat": 4,
 "nbformat_minor": 5
}
